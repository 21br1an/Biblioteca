{
  "nbformat": 4,
  "nbformat_minor": 0,
  "metadata": {
    "colab": {
      "provenance": [],
      "include_colab_link": true
    },
    "kernelspec": {
      "name": "python3",
      "display_name": "Python 3"
    }
  },
  "cells": [
    {
      "cell_type": "markdown",
      "metadata": {
        "id": "view-in-github",
        "colab_type": "text"
      },
      "source": [
        "<a href=\"https://colab.research.google.com/github/21br1an/Biblioteca/blob/main/Trabalho_Extra.ipynb\" target=\"_parent\"><img src=\"https://colab.research.google.com/assets/colab-badge.svg\" alt=\"Open In Colab\"/></a>"
      ]
    },
    {
      "cell_type": "markdown",
      "metadata": {
        "id": "G90zxY79qIXe"
      },
      "source": [
        "\n",
        "<html>\n",
        "  <body>\n",
        "    <header></header>\n",
        "        <CENTER>\n",
        "          <img src=\"https://uvv.br/wp-content/themes/uvvBr/templates/assets//img/logouvv.svg\" alt=\"UVV-LOGO\" style = width=\"100px\"; height=\"100px\">\n",
        "        </CENTER>\n",
        "        <CENTER><b>LABORATÓRIO DE PROGRAMAÇAO</b></CENTER>\n",
        "        <CENTER><b>ATIVIDADE EXTRA</b></CENTER>"
      ]
    },
    {
      "cell_type": "markdown",
      "source": [
        "NOME: Brayan Soares"
      ],
      "metadata": {
        "id": "cTWjy-UMSZKR"
      }
    },
    {
      "cell_type": "markdown",
      "source": [
        "MEU LINK COLAB: [Link]()"
      ],
      "metadata": {
        "id": "VGKo5hTSCMcA"
      }
    },
    {
      "cell_type": "markdown",
      "metadata": {
        "id": "CWZ7nYLvZjR8"
      },
      "source": [
        "# LETRA:"
      ]
    },
    {
      "cell_type": "code",
      "source": [
        "#exercicio 2\n",
        "try:\n",
        "  base = float(input('Base em centímetros: '))\n",
        "  altura = float(input('Altura em centímetros: '))\n",
        "  perimetro = ((2*base) + (2*altura))\n",
        "  print(f'Perimetro em cenímetros: {perimetro: .2f} cm')\n",
        "  print(f'Perimetro em polegadas: {perimetro / 2.54: .2f} cm')\n",
        "  print(f'Perimetro em jardas: {perimetro / 91.44: .2f} cm')\n",
        "except Exception as erro:\n",
        "  print(f'Erro na entrada de dados ({erro})')"
      ],
      "metadata": {
        "id": "ekCLKHdxajvB",
        "outputId": "19b2dac3-e462-44a1-e716-93c78f8103f0",
        "colab": {
          "base_uri": "https://localhost:8080/",
          "height": 0
        }
      },
      "execution_count": 4,
      "outputs": [
        {
          "output_type": "stream",
          "name": "stdout",
          "text": [
            "Base em centímetros: 4\n",
            "Altura em centímetros: 2\n",
            "Perimetro em cenímetros:  12.00 cm\n",
            "Perimetro em polegadas:  4.72 cm\n",
            "Perimetro em jardas:  0.13 cm\n"
          ]
        }
      ]
    },
    {
      "cell_type": "markdown",
      "metadata": {
        "id": "stTvYgS0Z1_e"
      },
      "source": [
        "# LETRA:"
      ]
    },
    {
      "cell_type": "code",
      "metadata": {
        "id": "I0jBku9KZ0sk",
        "outputId": "1e60f862-60ce-46e8-e60b-a822588945b5",
        "colab": {
          "base_uri": "https://localhost:8080/",
          "height": 0
        }
      },
      "source": [
        " #exercicio 7\n",
        " try:\n",
        "  preco = float(input('Insira o preço da mercadoria: '))\n",
        "  reajuste = int(input('Deseja o reajuste? (1-sim, 2-não) Digite o numero correspondente a sua ecolha.: '))\n",
        "  if reajuste == 1:\n",
        "    print(f'Preço com reajuste: R$ {preco - (preco * 0.03): .2f}')\n",
        "    if reajuste == 2:\n",
        "      print(f'Preço sem reajuste: R$ {preco: .2f}')\n",
        "  else:\n",
        "    print(f'Por favor, escolha entre opção 1 ou 2 (1-sim, 2-não)')\n",
        "\n",
        "\n",
        "\n",
        "except:\n",
        "  print('ERRO: Dados de entrada.')\n"
      ],
      "execution_count": 32,
      "outputs": [
        {
          "output_type": "stream",
          "name": "stdout",
          "text": [
            "Insira o preço da mercadoria: 10\n",
            "Deseja o reajuste? (1-sim, 2-não) Digite o numero correspondente a sua ecolha.: 1\n",
            "Preço com reajuste: R$  9.70\n"
          ]
        }
      ]
    },
    {
      "cell_type": "markdown",
      "source": [
        "# LETRA:"
      ],
      "metadata": {
        "id": "B-d-ZkxwannI"
      }
    },
    {
      "cell_type": "code",
      "source": [
        " #exercicio 8\n",
        " try:\n",
        "  unidade = int(input('Escolha sua unidade de medida de temperatura (1-Celsius, 2-Fahrenheit) Digite o numero correspondente a sua ecolha.: '))\n",
        "  temperatura = float(input('Insira o valor da temperatura: '))\n",
        "  if unidade == 1:\n",
        "    print(f'Temperatura em Fahrenheit; {(temperatura*(9/5)) + 32: .2f} °F')\n",
        "    if unidade == 2:\n",
        "      print(f'Temperatrua em Celsius {(temperatura - 32) * 5/9: .2f}  °C')\n",
        "  else:\n",
        "    print(f'Por favor, escolha entre opção 1 ou 2 (1-Celsius, 2-Fahrenheit)')\n",
        "\n",
        "\n",
        "except:\n",
        "  print('ERRO: Dados de entrada.')"
      ],
      "metadata": {
        "id": "HchpTAzsaoPo",
        "outputId": "c08ff540-e25b-41ef-9fdc-66f953dc2409",
        "colab": {
          "base_uri": "https://localhost:8080/",
          "height": 0
        }
      },
      "execution_count": 33,
      "outputs": [
        {
          "output_type": "stream",
          "name": "stdout",
          "text": [
            "Escolha sua unidade de medida de temperatura (1-Celsius, 2-Fahrenheit) Digite o numero correspondente a sua ecolha.: 1\n",
            "Insira o valor da temperatura: 30\n",
            "Temperatura em Fahrenheit;  86.00 °F\n"
          ]
        }
      ]
    }
  ]
}